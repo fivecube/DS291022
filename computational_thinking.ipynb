{
 "cells": [
  {
   "cell_type": "code",
   "execution_count": 3,
   "id": "6070f144",
   "metadata": {},
   "outputs": [
    {
     "name": "stdout",
     "output_type": "stream",
     "text": [
      "90\n"
     ]
    }
   ],
   "source": [
    "# maximum number\n",
    "\n",
    "numbers = [23, 90, -5, 66, 27, 54]\n",
    "\n",
    "max_no = 23\n",
    "\n",
    "for no in numbers:\n",
    "    if max_no < no:\n",
    "        max_no = no\n",
    "\n",
    "print(max_no)"
   ]
  },
  {
   "cell_type": "code",
   "execution_count": 5,
   "id": "b25f9a1d",
   "metadata": {},
   "outputs": [
    {
     "name": "stdout",
     "output_type": "stream",
     "text": [
      "-5\n"
     ]
    }
   ],
   "source": [
    "# minimum number\n",
    "\n",
    "numbers = [23, 90, -5, 66, 27, 54]\n",
    "\n",
    "min_no = 23\n",
    "\n",
    "for no in numbers:\n",
    "    if min_no > no:\n",
    "        min_no = no\n",
    "\n",
    "print(min_no)"
   ]
  },
  {
   "cell_type": "code",
   "execution_count": 11,
   "id": "212b5256",
   "metadata": {},
   "outputs": [
    {
     "name": "stdout",
     "output_type": "stream",
     "text": [
      "numbers [23, 90, 66, 27, 54]\n",
      "new_list [-5]\n",
      "numbers [90, 66, 27, 54]\n",
      "new_list [-5, 23]\n",
      "numbers [90, 66, 54]\n",
      "new_list [-5, 23, 27]\n",
      "numbers [90, 66]\n",
      "new_list [-5, 23, 27, 54]\n",
      "numbers [90]\n",
      "new_list [-5, 23, 27, 54, 66]\n",
      "numbers []\n",
      "new_list [-5, 23, 27, 54, 66, 90]\n"
     ]
    }
   ],
   "source": [
    "# arraging the numbers in ascending order\n",
    "# sorting\n",
    "\n",
    "numbers = [23, 90, -5, 66, 27, 54]\n",
    "new_list = []\n",
    "while len(numbers)!= 0:\n",
    "    x = min(numbers)\n",
    "    new_list.append(x)\n",
    "    numbers.remove(x)\n",
    "    print(f'numbers {numbers}')\n",
    "    print(f'new_list {new_list}')"
   ]
  },
  {
   "cell_type": "code",
   "execution_count": null,
   "id": "70655b10",
   "metadata": {},
   "outputs": [],
   "source": [
    "# this above is one of the worst code for sorting.\n",
    "# the reason i took it is because i wanted to make\n",
    "# you guys understand pattern recognition."
   ]
  },
  {
   "cell_type": "code",
   "execution_count": 12,
   "id": "ec779b97",
   "metadata": {},
   "outputs": [
    {
     "name": "stdout",
     "output_type": "stream",
     "text": [
      "[0, 0, 0, 0, 0, 0, 0, 1, 1, 1, 1, 1, 1, 2, 2, 2, 2]\n"
     ]
    }
   ],
   "source": [
    "numbers = [0, 0, 1, 2, 2, 1, 1 , 2, 0, 0, 0, 0, 1, 1, 2, 0, 1]\n",
    "\n",
    "list_of_zeros = []\n",
    "list_of_ones = []\n",
    "list_of_twos = []\n",
    "\n",
    "for no in numbers:\n",
    "    if no == 0:\n",
    "        list_of_zeros.append(0)\n",
    "    elif no == 1:\n",
    "        list_of_ones.append(1)\n",
    "    else:\n",
    "        list_of_twos.append(2)\n",
    "\n",
    "final_list = []\n",
    "final_list.extend(list_of_zeros)\n",
    "final_list.extend(list_of_twos)\n",
    "print(final_list)"
   ]
  },
  {
   "cell_type": "code",
   "execution_count": null,
   "id": "93607ec5",
   "metadata": {},
   "outputs": [],
   "source": []
  }
 ],
 "metadata": {
  "kernelspec": {
   "display_name": "Python 3 (ipykernel)",
   "language": "python",
   "name": "python3"
  },
  "language_info": {
   "codemirror_mode": {
    "name": "ipython",
    "version": 3
   },
   "file_extension": ".py",
   "mimetype": "text/x-python",
   "name": "python",
   "nbconvert_exporter": "python",
   "pygments_lexer": "ipython3",
   "version": "3.8.10"
  }
 },
 "nbformat": 4,
 "nbformat_minor": 5
}
